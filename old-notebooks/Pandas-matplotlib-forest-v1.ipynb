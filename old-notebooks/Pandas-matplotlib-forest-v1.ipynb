{
 "cells": [
  {
   "cell_type": "code",
   "execution_count": 2,
   "id": "cb377ed6",
   "metadata": {},
   "outputs": [],
   "source": [
    "%matplotlib inline\n",
    "import matplotlib.pyplot as plt\n",
    "plt.style.use('seaborn-whitegrid')\n",
    "\n",
    "import numpy as np\n",
    "import pandas as pd\n",
    "\n",
    "from datetime import datetime\n"
   ]
  },
  {
   "cell_type": "code",
   "execution_count": 2,
   "id": "04878541",
   "metadata": {},
   "outputs": [
    {
     "data": {
      "text/html": [
       "<div>\n",
       "<style scoped>\n",
       "    .dataframe tbody tr th:only-of-type {\n",
       "        vertical-align: middle;\n",
       "    }\n",
       "\n",
       "    .dataframe tbody tr th {\n",
       "        vertical-align: top;\n",
       "    }\n",
       "\n",
       "    .dataframe thead th {\n",
       "        text-align: right;\n",
       "    }\n",
       "</style>\n",
       "<table border=\"1\" class=\"dataframe\">\n",
       "  <thead>\n",
       "    <tr style=\"text-align: right;\">\n",
       "      <th></th>\n",
       "      <th>Rank</th>\n",
       "      <th>Total Score</th>\n",
       "      <th>Clear Time</th>\n",
       "      <th>Enemy Score</th>\n",
       "      <th>Egg Score</th>\n",
       "      <th>Combo Bonus</th>\n",
       "      <th>Mission Bonus</th>\n",
       "      <th>Defeated</th>\n",
       "      <th>Hatched</th>\n",
       "      <th>Driver</th>\n",
       "      <th>Dunk</th>\n",
       "      <th>Shoot</th>\n",
       "      <th>Tame</th>\n",
       "      <th>Hatch</th>\n",
       "    </tr>\n",
       "  </thead>\n",
       "  <tbody>\n",
       "    <tr>\n",
       "      <th>Forest 1</th>\n",
       "      <td>C</td>\n",
       "      <td>1700.0</td>\n",
       "      <td>00:01:26.35</td>\n",
       "      <td>1500.0</td>\n",
       "      <td>200.0</td>\n",
       "      <td>0.0</td>\n",
       "      <td>0.0</td>\n",
       "      <td>10.0</td>\n",
       "      <td>1.0</td>\n",
       "      <td>0.0</td>\n",
       "      <td>1.0</td>\n",
       "      <td>0.0</td>\n",
       "      <td>0.0</td>\n",
       "      <td>1.0</td>\n",
       "    </tr>\n",
       "    <tr>\n",
       "      <th>Forest 1</th>\n",
       "      <td>D</td>\n",
       "      <td>800.0</td>\n",
       "      <td>00:01:26.44</td>\n",
       "      <td>600.0</td>\n",
       "      <td>200.0</td>\n",
       "      <td>0.0</td>\n",
       "      <td>0.0</td>\n",
       "      <td>6.0</td>\n",
       "      <td>1.0</td>\n",
       "      <td>0.0</td>\n",
       "      <td>0.0</td>\n",
       "      <td>0.0</td>\n",
       "      <td>0.0</td>\n",
       "      <td>1.0</td>\n",
       "    </tr>\n",
       "    <tr>\n",
       "      <th>Forest 1</th>\n",
       "      <td>S</td>\n",
       "      <td>4200.0</td>\n",
       "      <td>00:01:29.36</td>\n",
       "      <td>3500.0</td>\n",
       "      <td>200.0</td>\n",
       "      <td>500.0</td>\n",
       "      <td>0.0</td>\n",
       "      <td>14.0</td>\n",
       "      <td>1.0</td>\n",
       "      <td>0.0</td>\n",
       "      <td>0.0</td>\n",
       "      <td>3.0</td>\n",
       "      <td>0.0</td>\n",
       "      <td>1.0</td>\n",
       "    </tr>\n",
       "    <tr>\n",
       "      <th>Forest 1</th>\n",
       "      <td>B</td>\n",
       "      <td>2500.0</td>\n",
       "      <td>00:01:39.21</td>\n",
       "      <td>2300.0</td>\n",
       "      <td>200.0</td>\n",
       "      <td>0.0</td>\n",
       "      <td>0.0</td>\n",
       "      <td>23.0</td>\n",
       "      <td>1.0</td>\n",
       "      <td>0.0</td>\n",
       "      <td>0.0</td>\n",
       "      <td>0.0</td>\n",
       "      <td>0.0</td>\n",
       "      <td>1.0</td>\n",
       "    </tr>\n",
       "    <tr>\n",
       "      <th>Forest 1</th>\n",
       "      <td>A</td>\n",
       "      <td>3900.0</td>\n",
       "      <td>00:01:51.64</td>\n",
       "      <td>3700.0</td>\n",
       "      <td>200.0</td>\n",
       "      <td>0.0</td>\n",
       "      <td>0.0</td>\n",
       "      <td>26.0</td>\n",
       "      <td>1.0</td>\n",
       "      <td>0.0</td>\n",
       "      <td>2.0</td>\n",
       "      <td>1.0</td>\n",
       "      <td>0.0</td>\n",
       "      <td>1.0</td>\n",
       "    </tr>\n",
       "  </tbody>\n",
       "</table>\n",
       "</div>"
      ],
      "text/plain": [
       "         Rank  Total Score   Clear Time  Enemy Score  Egg Score  Combo Bonus  \\\n",
       "Forest 1    C       1700.0  00:01:26.35       1500.0      200.0          0.0   \n",
       "Forest 1    D        800.0  00:01:26.44        600.0      200.0          0.0   \n",
       "Forest 1    S       4200.0  00:01:29.36       3500.0      200.0        500.0   \n",
       "Forest 1    B       2500.0  00:01:39.21       2300.0      200.0          0.0   \n",
       "Forest 1    A       3900.0  00:01:51.64       3700.0      200.0          0.0   \n",
       "\n",
       "          Mission Bonus  Defeated  Hatched  Driver  Dunk  Shoot  Tame  Hatch  \n",
       "Forest 1            0.0      10.0      1.0     0.0   1.0    0.0   0.0    1.0  \n",
       "Forest 1            0.0       6.0      1.0     0.0   0.0    0.0   0.0    1.0  \n",
       "Forest 1            0.0      14.0      1.0     0.0   0.0    3.0   0.0    1.0  \n",
       "Forest 1            0.0      23.0      1.0     0.0   0.0    0.0   0.0    1.0  \n",
       "Forest 1            0.0      26.0      1.0     0.0   2.0    1.0   0.0    1.0  "
      ]
     },
     "execution_count": 2,
     "metadata": {},
     "output_type": "execute_result"
    }
   ],
   "source": [
    "\"\"\"import Forest Village scoreboard + rank data\"\"\"\n",
    "\"\"\"sometimes getting rid of 'Mission' header above Forest 1, etc works\"\"\"\n",
    "\"\"\"else labels are 1 off or putting header back in also is 1 off\"\"\"\n",
    "scoreboards = pd.read_csv('forest.csv')\n",
    "scoreboards.head()"
   ]
  },
  {
   "cell_type": "code",
   "execution_count": 3,
   "id": "109fb36d",
   "metadata": {},
   "outputs": [
    {
     "name": "stdout",
     "output_type": "stream",
     "text": [
      "Forest 1    00:01:26.35\n",
      "Forest 1    00:01:26.44\n",
      "Forest 1    00:01:29.36\n",
      "Forest 1    00:01:39.21\n",
      "Forest 1    00:01:51.64\n",
      "               ...     \n",
      "Forest 8    00:03:24.92\n",
      "Forest 8    00:03:51.21\n",
      "Forest 8    00:04:27.88\n",
      "Forest 8    00:04:35.58\n",
      "Forest 8    00:05:00.12\n",
      "Name: Clear Time, Length: 103, dtype: object\n"
     ]
    }
   ],
   "source": [
    "print(scoreboards['Clear Time'])"
   ]
  },
  {
   "cell_type": "code",
   "execution_count": 4,
   "id": "00c7899a",
   "metadata": {},
   "outputs": [
    {
     "data": {
      "text/plain": [
       "Index(['Rank', 'Total Score', 'Clear Time', 'Enemy Score', 'Egg Score',\n",
       "       'Combo Bonus', 'Mission Bonus', 'Defeated', 'Hatched', 'Driver', 'Dunk',\n",
       "       'Shoot', 'Tame', 'Hatch'],\n",
       "      dtype='object')"
      ]
     },
     "execution_count": 4,
     "metadata": {},
     "output_type": "execute_result"
    }
   ],
   "source": [
    "scoreboards.keys()"
   ]
  },
  {
   "cell_type": "code",
   "execution_count": 5,
   "id": "7aa0bb04",
   "metadata": {},
   "outputs": [
    {
     "data": {
      "text/html": [
       "<div>\n",
       "<style scoped>\n",
       "    .dataframe tbody tr th:only-of-type {\n",
       "        vertical-align: middle;\n",
       "    }\n",
       "\n",
       "    .dataframe tbody tr th {\n",
       "        vertical-align: top;\n",
       "    }\n",
       "\n",
       "    .dataframe thead th {\n",
       "        text-align: right;\n",
       "    }\n",
       "</style>\n",
       "<table border=\"1\" class=\"dataframe\">\n",
       "  <thead>\n",
       "    <tr style=\"text-align: right;\">\n",
       "      <th></th>\n",
       "      <th>Rank</th>\n",
       "      <th>Total Score</th>\n",
       "      <th>Clear Time</th>\n",
       "    </tr>\n",
       "  </thead>\n",
       "  <tbody>\n",
       "    <tr>\n",
       "      <th>Forest 1</th>\n",
       "      <td>C</td>\n",
       "      <td>1700.0</td>\n",
       "      <td>00:01:26.35</td>\n",
       "    </tr>\n",
       "    <tr>\n",
       "      <th>Forest 1</th>\n",
       "      <td>D</td>\n",
       "      <td>800.0</td>\n",
       "      <td>00:01:26.44</td>\n",
       "    </tr>\n",
       "    <tr>\n",
       "      <th>Forest 1</th>\n",
       "      <td>S</td>\n",
       "      <td>4200.0</td>\n",
       "      <td>00:01:29.36</td>\n",
       "    </tr>\n",
       "    <tr>\n",
       "      <th>Forest 1</th>\n",
       "      <td>B</td>\n",
       "      <td>2500.0</td>\n",
       "      <td>00:01:39.21</td>\n",
       "    </tr>\n",
       "    <tr>\n",
       "      <th>Forest 1</th>\n",
       "      <td>A</td>\n",
       "      <td>3900.0</td>\n",
       "      <td>00:01:51.64</td>\n",
       "    </tr>\n",
       "  </tbody>\n",
       "</table>\n",
       "</div>"
      ],
      "text/plain": [
       "         Rank  Total Score   Clear Time\n",
       "Forest 1    C       1700.0  00:01:26.35\n",
       "Forest 1    D        800.0  00:01:26.44\n",
       "Forest 1    S       4200.0  00:01:29.36\n",
       "Forest 1    B       2500.0  00:01:39.21\n",
       "Forest 1    A       3900.0  00:01:51.64"
      ]
     },
     "execution_count": 5,
     "metadata": {},
     "output_type": "execute_result"
    }
   ],
   "source": [
    "# put relevant scoreboard data for plotting into a dataframe\n",
    "# (used indexer on full dataset)\n",
    "df = scoreboards.loc[:, :'Clear Time']\n",
    "df.head()"
   ]
  },
  {
   "cell_type": "code",
   "execution_count": 6,
   "id": "99566b14",
   "metadata": {},
   "outputs": [],
   "source": [
    "#plt.scatter(df['Total Score']) # needs 'y' set of data"
   ]
  },
  {
   "cell_type": "code",
   "execution_count": 7,
   "id": "09a10009",
   "metadata": {},
   "outputs": [],
   "source": [
    "#plt.scatter?  # help docs"
   ]
  },
  {
   "cell_type": "code",
   "execution_count": 8,
   "id": "9de87b3c",
   "metadata": {},
   "outputs": [
    {
     "data": {
      "text/plain": [
       "numpy.float64"
      ]
     },
     "execution_count": 8,
     "metadata": {},
     "output_type": "execute_result"
    }
   ],
   "source": [
    "type(df['Total Score'][0])"
   ]
  },
  {
   "cell_type": "code",
   "execution_count": 9,
   "id": "9c81c238",
   "metadata": {},
   "outputs": [
    {
     "data": {
      "text/plain": [
       "str"
      ]
     },
     "execution_count": 9,
     "metadata": {},
     "output_type": "execute_result"
    }
   ],
   "source": [
    "type(df['Clear Time'][0])"
   ]
  },
  {
   "cell_type": "code",
   "execution_count": 10,
   "id": "a222a4e6",
   "metadata": {},
   "outputs": [
    {
     "data": {
      "text/plain": [
       "Forest 1   2021-12-02 00:01:26.350\n",
       "Forest 1   2021-12-02 00:01:26.440\n",
       "Forest 1   2021-12-02 00:01:29.360\n",
       "Forest 1   2021-12-02 00:01:39.210\n",
       "Forest 1   2021-12-02 00:01:51.640\n",
       "                     ...          \n",
       "Forest 8   2021-12-02 00:03:24.920\n",
       "Forest 8   2021-12-02 00:03:51.210\n",
       "Forest 8   2021-12-02 00:04:27.880\n",
       "Forest 8   2021-12-02 00:04:35.580\n",
       "Forest 8   2021-12-02 00:05:00.120\n",
       "Name: Clear Time, Length: 103, dtype: datetime64[ns]"
      ]
     },
     "execution_count": 10,
     "metadata": {},
     "output_type": "execute_result"
    }
   ],
   "source": [
    "# using timedelta instead of datetime breaks this for now\n",
    "times = pd.to_datetime(df['Clear Time'])  \n",
    "times"
   ]
  },
  {
   "cell_type": "code",
   "execution_count": 11,
   "id": "76f1b484",
   "metadata": {},
   "outputs": [
    {
     "data": {
      "text/plain": [
       "Forest 1     1700.0\n",
       "Forest 1      800.0\n",
       "Forest 1     4200.0\n",
       "Forest 1     2500.0\n",
       "Forest 1     3900.0\n",
       "             ...   \n",
       "Forest 8    14200.0\n",
       "Forest 8    26900.0\n",
       "Forest 8    21500.0\n",
       "Forest 8    17100.0\n",
       "Forest 8    14000.0\n",
       "Name: Total Score, Length: 103, dtype: float64"
      ]
     },
     "execution_count": 11,
     "metadata": {},
     "output_type": "execute_result"
    }
   ],
   "source": [
    "scores = df['Total Score']\n",
    "scores"
   ]
  },
  {
   "cell_type": "code",
   "execution_count": 12,
   "id": "ca5795d9",
   "metadata": {},
   "outputs": [
    {
     "data": {
      "text/plain": [
       "Forest 1    C\n",
       "Forest 1    D\n",
       "Forest 1    S\n",
       "Forest 1    B\n",
       "Forest 1    A\n",
       "           ..\n",
       "Forest 8    S\n",
       "Forest 8    S\n",
       "Forest 8    S\n",
       "Forest 8    S\n",
       "Forest 8    S\n",
       "Name: Rank, Length: 103, dtype: object"
      ]
     },
     "execution_count": 12,
     "metadata": {},
     "output_type": "execute_result"
    }
   ],
   "source": [
    "ranks = df['Rank']\n",
    "ranks"
   ]
  },
  {
   "cell_type": "code",
   "execution_count": 13,
   "id": "9bea66a8",
   "metadata": {},
   "outputs": [
    {
     "data": {
      "text/plain": [
       "<matplotlib.collections.PathCollection at 0x7fb641bfc970>"
      ]
     },
     "execution_count": 13,
     "metadata": {},
     "output_type": "execute_result"
    },
    {
     "data": {
      "image/png": "[encoded data removed]",
      "text/plain": [
       "<Figure size 432x288 with 1 Axes>"
      ]
     },
     "metadata": {},
     "output_type": "display_data"
    }
   ],
   "source": [
    "plt.scatter(times, scores)"
   ]
  },
  {
   "cell_type": "code",
   "execution_count": 14,
   "id": "1101c943",
   "metadata": {},
   "outputs": [],
   "source": [
    "# ranks.length()  # no attribute 'length', 'len'"
   ]
  },
  {
   "cell_type": "code",
   "execution_count": 3,
   "id": "40cfc4c4",
   "metadata": {},
   "outputs": [
    {
     "ename": "AttributeError",
     "evalue": "module 'pandas' has no attribute 'datetime_range'",
     "output_type": "error",
     "traceback": [
      "\u001b[0;31m---------------------------------------------------------------------------\u001b[0m",
      "\u001b[0;31mAttributeError\u001b[0m                            Traceback (most recent call last)",
      "\u001b[0;32m/tmp/ipykernel_10001/1043797680.py\u001b[0m in \u001b[0;36m<module>\u001b[0;34m\u001b[0m\n\u001b[0;32m----> 1\u001b[0;31m \u001b[0mpd\u001b[0m\u001b[0;34m.\u001b[0m\u001b[0mdatetime_range\u001b[0m\u001b[0;34m(\u001b[0m\u001b[0;36m0\u001b[0m\u001b[0;34m,\u001b[0m \u001b[0mperiods\u001b[0m\u001b[0;34m=\u001b[0m\u001b[0;36m12\u001b[0m\u001b[0;34m,\u001b[0m \u001b[0mfreq\u001b[0m\u001b[0;34m=\u001b[0m\u001b[0;34m'T'\u001b[0m\u001b[0;34m)\u001b[0m\u001b[0;34m\u001b[0m\u001b[0;34m\u001b[0m\u001b[0m\n\u001b[0m",
      "\u001b[0;32m~/miniconda3/lib/python3.9/site-packages/pandas/__init__.py\u001b[0m in \u001b[0;36m__getattr__\u001b[0;34m(name)\u001b[0m\n\u001b[1;32m    242\u001b[0m         \u001b[0;32mreturn\u001b[0m \u001b[0m_SparseArray\u001b[0m\u001b[0;34m\u001b[0m\u001b[0;34m\u001b[0m\u001b[0m\n\u001b[1;32m    243\u001b[0m \u001b[0;34m\u001b[0m\u001b[0m\n\u001b[0;32m--> 244\u001b[0;31m     \u001b[0;32mraise\u001b[0m \u001b[0mAttributeError\u001b[0m\u001b[0;34m(\u001b[0m\u001b[0;34mf\"module 'pandas' has no attribute '{name}'\"\u001b[0m\u001b[0;34m)\u001b[0m\u001b[0;34m\u001b[0m\u001b[0;34m\u001b[0m\u001b[0m\n\u001b[0m\u001b[1;32m    245\u001b[0m \u001b[0;34m\u001b[0m\u001b[0m\n\u001b[1;32m    246\u001b[0m \u001b[0;34m\u001b[0m\u001b[0m\n",
      "\u001b[0;31mAttributeError\u001b[0m: module 'pandas' has no attribute 'datetime_range'"
     ]
    }
   ],
   "source": [
    "pd.timedelta_range(0, periods=12, freq='T')"
   ]
  },
  {
   "cell_type": "code",
   "execution_count": 16,
   "id": "20d1c81f",
   "metadata": {},
   "outputs": [
    {
     "name": "stdout",
     "output_type": "stream",
     "text": [
      "Forest 4    S\n",
      "Forest 4    C\n",
      "Forest 4    S\n",
      "Forest 4    S\n",
      "Forest 4    A\n",
      "Forest 4    S\n",
      "Forest 4    S\n",
      "Forest 4    S\n",
      "Forest 4    S\n",
      "Forest 4    A\n",
      "Name: Rank, dtype: object\n"
     ]
    }
   ],
   "source": [
    "print(ranks['Forest 4'])"
   ]
  },
  {
   "cell_type": "code",
   "execution_count": 17,
   "id": "2ba8e58b",
   "metadata": {},
   "outputs": [
    {
     "data": {
      "text/plain": [
       "Index(['Forest 1', 'Forest 1', 'Forest 1', 'Forest 1', 'Forest 1', 'Forest 1',\n",
       "       'Forest 1', 'Forest 1', 'Forest 1', 'Forest 1',\n",
       "       ...\n",
       "       'Forest 7', 'Forest 7',        nan, 'Forest 8', 'Forest 8', 'Forest 8',\n",
       "       'Forest 8', 'Forest 8', 'Forest 8', 'Forest 8'],\n",
       "      dtype='object', length=103)"
      ]
     },
     "execution_count": 17,
     "metadata": {},
     "output_type": "execute_result"
    }
   ],
   "source": [
    "ranks.index"
   ]
  },
  {
   "cell_type": "code",
   "execution_count": 18,
   "id": "eea2e057",
   "metadata": {},
   "outputs": [
    {
     "data": {
      "text/html": [
       "<div>\n",
       "<style scoped>\n",
       "    .dataframe tbody tr th:only-of-type {\n",
       "        vertical-align: middle;\n",
       "    }\n",
       "\n",
       "    .dataframe tbody tr th {\n",
       "        vertical-align: top;\n",
       "    }\n",
       "\n",
       "    .dataframe thead th {\n",
       "        text-align: right;\n",
       "    }\n",
       "</style>\n",
       "<table border=\"1\" class=\"dataframe\">\n",
       "  <thead>\n",
       "    <tr style=\"text-align: right;\">\n",
       "      <th></th>\n",
       "      <th>Rank</th>\n",
       "      <th>Total Score</th>\n",
       "      <th>Clear Time</th>\n",
       "      <th>Enemy Score</th>\n",
       "      <th>Egg Score</th>\n",
       "      <th>Combo Bonus</th>\n",
       "      <th>Mission Bonus</th>\n",
       "      <th>Defeated</th>\n",
       "      <th>Hatched</th>\n",
       "      <th>Driver</th>\n",
       "      <th>Dunk</th>\n",
       "      <th>Shoot</th>\n",
       "      <th>Tame</th>\n",
       "      <th>Hatch</th>\n",
       "    </tr>\n",
       "  </thead>\n",
       "  <tbody>\n",
       "    <tr>\n",
       "      <th>Forest 1</th>\n",
       "      <td>C</td>\n",
       "      <td>1700.0</td>\n",
       "      <td>00:01:26.35</td>\n",
       "      <td>1500.0</td>\n",
       "      <td>200.0</td>\n",
       "      <td>0.0</td>\n",
       "      <td>0.0</td>\n",
       "      <td>10.0</td>\n",
       "      <td>1.0</td>\n",
       "      <td>0.0</td>\n",
       "      <td>1.0</td>\n",
       "      <td>0.0</td>\n",
       "      <td>0.0</td>\n",
       "      <td>1.0</td>\n",
       "    </tr>\n",
       "    <tr>\n",
       "      <th>Forest 1</th>\n",
       "      <td>D</td>\n",
       "      <td>800.0</td>\n",
       "      <td>00:01:26.44</td>\n",
       "      <td>600.0</td>\n",
       "      <td>200.0</td>\n",
       "      <td>0.0</td>\n",
       "      <td>0.0</td>\n",
       "      <td>6.0</td>\n",
       "      <td>1.0</td>\n",
       "      <td>0.0</td>\n",
       "      <td>0.0</td>\n",
       "      <td>0.0</td>\n",
       "      <td>0.0</td>\n",
       "      <td>1.0</td>\n",
       "    </tr>\n",
       "    <tr>\n",
       "      <th>Forest 1</th>\n",
       "      <td>S</td>\n",
       "      <td>4200.0</td>\n",
       "      <td>00:01:29.36</td>\n",
       "      <td>3500.0</td>\n",
       "      <td>200.0</td>\n",
       "      <td>500.0</td>\n",
       "      <td>0.0</td>\n",
       "      <td>14.0</td>\n",
       "      <td>1.0</td>\n",
       "      <td>0.0</td>\n",
       "      <td>0.0</td>\n",
       "      <td>3.0</td>\n",
       "      <td>0.0</td>\n",
       "      <td>1.0</td>\n",
       "    </tr>\n",
       "    <tr>\n",
       "      <th>Forest 1</th>\n",
       "      <td>B</td>\n",
       "      <td>2500.0</td>\n",
       "      <td>00:01:39.21</td>\n",
       "      <td>2300.0</td>\n",
       "      <td>200.0</td>\n",
       "      <td>0.0</td>\n",
       "      <td>0.0</td>\n",
       "      <td>23.0</td>\n",
       "      <td>1.0</td>\n",
       "      <td>0.0</td>\n",
       "      <td>0.0</td>\n",
       "      <td>0.0</td>\n",
       "      <td>0.0</td>\n",
       "      <td>1.0</td>\n",
       "    </tr>\n",
       "    <tr>\n",
       "      <th>Forest 1</th>\n",
       "      <td>A</td>\n",
       "      <td>3900.0</td>\n",
       "      <td>00:01:51.64</td>\n",
       "      <td>3700.0</td>\n",
       "      <td>200.0</td>\n",
       "      <td>0.0</td>\n",
       "      <td>0.0</td>\n",
       "      <td>26.0</td>\n",
       "      <td>1.0</td>\n",
       "      <td>0.0</td>\n",
       "      <td>2.0</td>\n",
       "      <td>1.0</td>\n",
       "      <td>0.0</td>\n",
       "      <td>1.0</td>\n",
       "    </tr>\n",
       "    <tr>\n",
       "      <th>...</th>\n",
       "      <td>...</td>\n",
       "      <td>...</td>\n",
       "      <td>...</td>\n",
       "      <td>...</td>\n",
       "      <td>...</td>\n",
       "      <td>...</td>\n",
       "      <td>...</td>\n",
       "      <td>...</td>\n",
       "      <td>...</td>\n",
       "      <td>...</td>\n",
       "      <td>...</td>\n",
       "      <td>...</td>\n",
       "      <td>...</td>\n",
       "      <td>...</td>\n",
       "    </tr>\n",
       "    <tr>\n",
       "      <th>Forest 8</th>\n",
       "      <td>S</td>\n",
       "      <td>14200.0</td>\n",
       "      <td>00:03:24.92</td>\n",
       "      <td>13400.0</td>\n",
       "      <td>800.0</td>\n",
       "      <td>0.0</td>\n",
       "      <td>0.0</td>\n",
       "      <td>101.0</td>\n",
       "      <td>3.0</td>\n",
       "      <td>0.0</td>\n",
       "      <td>3.0</td>\n",
       "      <td>4.0</td>\n",
       "      <td>0.0</td>\n",
       "      <td>3.0</td>\n",
       "    </tr>\n",
       "    <tr>\n",
       "      <th>Forest 8</th>\n",
       "      <td>S</td>\n",
       "      <td>26900.0</td>\n",
       "      <td>00:03:51.21</td>\n",
       "      <td>21800.0</td>\n",
       "      <td>600.0</td>\n",
       "      <td>1500.0</td>\n",
       "      <td>0.0</td>\n",
       "      <td>101.0</td>\n",
       "      <td>3.0</td>\n",
       "      <td>0.0</td>\n",
       "      <td>5.0</td>\n",
       "      <td>10.0</td>\n",
       "      <td>0.0</td>\n",
       "      <td>3.0</td>\n",
       "    </tr>\n",
       "    <tr>\n",
       "      <th>Forest 8</th>\n",
       "      <td>S</td>\n",
       "      <td>21500.0</td>\n",
       "      <td>00:04:27.88</td>\n",
       "      <td>19800.0</td>\n",
       "      <td>700.0</td>\n",
       "      <td>1000.0</td>\n",
       "      <td>0.0</td>\n",
       "      <td>100.0</td>\n",
       "      <td>4.0</td>\n",
       "      <td>0.0</td>\n",
       "      <td>2.0</td>\n",
       "      <td>10.0</td>\n",
       "      <td>1.0</td>\n",
       "      <td>3.0</td>\n",
       "    </tr>\n",
       "    <tr>\n",
       "      <th>Forest 8</th>\n",
       "      <td>S</td>\n",
       "      <td>17100.0</td>\n",
       "      <td>00:04:35.58</td>\n",
       "      <td>16600.0</td>\n",
       "      <td>500.0</td>\n",
       "      <td>0.0</td>\n",
       "      <td>0.0</td>\n",
       "      <td>109.0</td>\n",
       "      <td>3.0</td>\n",
       "      <td>0.0</td>\n",
       "      <td>2.0</td>\n",
       "      <td>10.0</td>\n",
       "      <td>1.0</td>\n",
       "      <td>2.0</td>\n",
       "    </tr>\n",
       "    <tr>\n",
       "      <th>Forest 8</th>\n",
       "      <td>S</td>\n",
       "      <td>14000.0</td>\n",
       "      <td>00:05:00.12</td>\n",
       "      <td>13600.0</td>\n",
       "      <td>400.0</td>\n",
       "      <td>0.0</td>\n",
       "      <td>0.0</td>\n",
       "      <td>124.0</td>\n",
       "      <td>2.0</td>\n",
       "      <td>0.0</td>\n",
       "      <td>3.0</td>\n",
       "      <td>0.0</td>\n",
       "      <td>0.0</td>\n",
       "      <td>2.0</td>\n",
       "    </tr>\n",
       "  </tbody>\n",
       "</table>\n",
       "<p>103 rows × 14 columns</p>\n",
       "</div>"
      ],
      "text/plain": [
       "         Rank  Total Score   Clear Time  Enemy Score  Egg Score  Combo Bonus  \\\n",
       "Forest 1    C       1700.0  00:01:26.35       1500.0      200.0          0.0   \n",
       "Forest 1    D        800.0  00:01:26.44        600.0      200.0          0.0   \n",
       "Forest 1    S       4200.0  00:01:29.36       3500.0      200.0        500.0   \n",
       "Forest 1    B       2500.0  00:01:39.21       2300.0      200.0          0.0   \n",
       "Forest 1    A       3900.0  00:01:51.64       3700.0      200.0          0.0   \n",
       "...       ...          ...          ...          ...        ...          ...   \n",
       "Forest 8    S      14200.0  00:03:24.92      13400.0      800.0          0.0   \n",
       "Forest 8    S      26900.0  00:03:51.21      21800.0      600.0       1500.0   \n",
       "Forest 8    S      21500.0  00:04:27.88      19800.0      700.0       1000.0   \n",
       "Forest 8    S      17100.0  00:04:35.58      16600.0      500.0          0.0   \n",
       "Forest 8    S      14000.0  00:05:00.12      13600.0      400.0          0.0   \n",
       "\n",
       "          Mission Bonus  Defeated  Hatched  Driver  Dunk  Shoot  Tame  Hatch  \n",
       "Forest 1            0.0      10.0      1.0     0.0   1.0    0.0   0.0    1.0  \n",
       "Forest 1            0.0       6.0      1.0     0.0   0.0    0.0   0.0    1.0  \n",
       "Forest 1            0.0      14.0      1.0     0.0   0.0    3.0   0.0    1.0  \n",
       "Forest 1            0.0      23.0      1.0     0.0   0.0    0.0   0.0    1.0  \n",
       "Forest 1            0.0      26.0      1.0     0.0   2.0    1.0   0.0    1.0  \n",
       "...                 ...       ...      ...     ...   ...    ...   ...    ...  \n",
       "Forest 8            0.0     101.0      3.0     0.0   3.0    4.0   0.0    3.0  \n",
       "Forest 8            0.0     101.0      3.0     0.0   5.0   10.0   0.0    3.0  \n",
       "Forest 8            0.0     100.0      4.0     0.0   2.0   10.0   1.0    3.0  \n",
       "Forest 8            0.0     109.0      3.0     0.0   2.0   10.0   1.0    2.0  \n",
       "Forest 8            0.0     124.0      2.0     0.0   3.0    0.0   0.0    2.0  \n",
       "\n",
       "[103 rows x 14 columns]"
      ]
     },
     "execution_count": 18,
     "metadata": {},
     "output_type": "execute_result"
    }
   ],
   "source": [
    "boards = scoreboards\n",
    "boards"
   ]
  },
  {
   "cell_type": "code",
   "execution_count": 19,
   "id": "da88327c",
   "metadata": {},
   "outputs": [
    {
     "data": {
      "text/plain": [
       "Forest 1    False\n",
       "Forest 1    False\n",
       "Forest 1     True\n",
       "Forest 1    False\n",
       "Forest 1    False\n",
       "            ...  \n",
       "Forest 8     True\n",
       "Forest 8     True\n",
       "Forest 8     True\n",
       "Forest 8     True\n",
       "Forest 8     True\n",
       "Name: Rank, Length: 103, dtype: bool"
      ]
     },
     "execution_count": 19,
     "metadata": {},
     "output_type": "execute_result"
    }
   ],
   "source": [
    "boards = scoreboards['Rank']=='S'\n",
    "boards"
   ]
  },
  {
   "cell_type": "code",
   "execution_count": 20,
   "id": "c3033cf3",
   "metadata": {},
   "outputs": [
    {
     "data": {
      "text/plain": [
       "73"
      ]
     },
     "execution_count": 20,
     "metadata": {},
     "output_type": "execute_result"
    }
   ],
   "source": [
    "sum(boards)"
   ]
  },
  {
   "cell_type": "code",
   "execution_count": 21,
   "id": "444c83a4",
   "metadata": {},
   "outputs": [
    {
     "data": {
      "text/plain": [
       "pandas.core.series.Series"
      ]
     },
     "execution_count": 21,
     "metadata": {},
     "output_type": "execute_result"
    }
   ],
   "source": [
    "type(ranks)"
   ]
  },
  {
   "cell_type": "code",
   "execution_count": 22,
   "id": "f9943a7b",
   "metadata": {},
   "outputs": [
    {
     "data": {
      "text/plain": [
       "pandas.core.series.Series"
      ]
     },
     "execution_count": 22,
     "metadata": {},
     "output_type": "execute_result"
    }
   ],
   "source": [
    "type(boards)"
   ]
  },
  {
   "cell_type": "code",
   "execution_count": 23,
   "id": "fc512b37",
   "metadata": {},
   "outputs": [
    {
     "data": {
      "text/plain": [
       "pandas.core.frame.DataFrame"
      ]
     },
     "execution_count": 23,
     "metadata": {},
     "output_type": "execute_result"
    }
   ],
   "source": [
    "type(df)"
   ]
  },
  {
   "cell_type": "code",
   "execution_count": 24,
   "id": "14472965",
   "metadata": {},
   "outputs": [
    {
     "data": {
      "text/plain": [
       "'S'"
      ]
     },
     "execution_count": 24,
     "metadata": {},
     "output_type": "execute_result"
    }
   ],
   "source": [
    "scoreboards['Rank'][102]"
   ]
  },
  {
   "cell_type": "code",
   "execution_count": 25,
   "id": "12246254",
   "metadata": {},
   "outputs": [
    {
     "data": {
      "text/html": [
       "<div>\n",
       "<style scoped>\n",
       "    .dataframe tbody tr th:only-of-type {\n",
       "        vertical-align: middle;\n",
       "    }\n",
       "\n",
       "    .dataframe tbody tr th {\n",
       "        vertical-align: top;\n",
       "    }\n",
       "\n",
       "    .dataframe thead th {\n",
       "        text-align: right;\n",
       "    }\n",
       "</style>\n",
       "<table border=\"1\" class=\"dataframe\">\n",
       "  <thead>\n",
       "    <tr style=\"text-align: right;\">\n",
       "      <th></th>\n",
       "      <th>Rank</th>\n",
       "      <th>Total Score</th>\n",
       "      <th>Clear Time</th>\n",
       "    </tr>\n",
       "  </thead>\n",
       "  <tbody>\n",
       "    <tr>\n",
       "      <th>Forest 1</th>\n",
       "      <td>S</td>\n",
       "      <td>4200.0</td>\n",
       "      <td>00:01:29.36</td>\n",
       "    </tr>\n",
       "    <tr>\n",
       "      <th>Forest 1</th>\n",
       "      <td>S</td>\n",
       "      <td>11100.0</td>\n",
       "      <td>00:02:10.12</td>\n",
       "    </tr>\n",
       "    <tr>\n",
       "      <th>Forest 1</th>\n",
       "      <td>S</td>\n",
       "      <td>9600.0</td>\n",
       "      <td>00:02:19.24</td>\n",
       "    </tr>\n",
       "    <tr>\n",
       "      <th>Forest 1</th>\n",
       "      <td>S</td>\n",
       "      <td>6800.0</td>\n",
       "      <td>00:02:24.92</td>\n",
       "    </tr>\n",
       "    <tr>\n",
       "      <th>Forest 1</th>\n",
       "      <td>S</td>\n",
       "      <td>6800.0</td>\n",
       "      <td>00:02:36.28</td>\n",
       "    </tr>\n",
       "    <tr>\n",
       "      <th>...</th>\n",
       "      <td>...</td>\n",
       "      <td>...</td>\n",
       "      <td>...</td>\n",
       "    </tr>\n",
       "    <tr>\n",
       "      <th>Forest 8</th>\n",
       "      <td>S</td>\n",
       "      <td>14200.0</td>\n",
       "      <td>00:03:24.92</td>\n",
       "    </tr>\n",
       "    <tr>\n",
       "      <th>Forest 8</th>\n",
       "      <td>S</td>\n",
       "      <td>26900.0</td>\n",
       "      <td>00:03:51.21</td>\n",
       "    </tr>\n",
       "    <tr>\n",
       "      <th>Forest 8</th>\n",
       "      <td>S</td>\n",
       "      <td>21500.0</td>\n",
       "      <td>00:04:27.88</td>\n",
       "    </tr>\n",
       "    <tr>\n",
       "      <th>Forest 8</th>\n",
       "      <td>S</td>\n",
       "      <td>17100.0</td>\n",
       "      <td>00:04:35.58</td>\n",
       "    </tr>\n",
       "    <tr>\n",
       "      <th>Forest 8</th>\n",
       "      <td>S</td>\n",
       "      <td>14000.0</td>\n",
       "      <td>00:05:00.12</td>\n",
       "    </tr>\n",
       "  </tbody>\n",
       "</table>\n",
       "<p>73 rows × 3 columns</p>\n",
       "</div>"
      ],
      "text/plain": [
       "         Rank  Total Score   Clear Time\n",
       "Forest 1    S       4200.0  00:01:29.36\n",
       "Forest 1    S      11100.0  00:02:10.12\n",
       "Forest 1    S       9600.0  00:02:19.24\n",
       "Forest 1    S       6800.0  00:02:24.92\n",
       "Forest 1    S       6800.0  00:02:36.28\n",
       "...       ...          ...          ...\n",
       "Forest 8    S      14200.0  00:03:24.92\n",
       "Forest 8    S      26900.0  00:03:51.21\n",
       "Forest 8    S      21500.0  00:04:27.88\n",
       "Forest 8    S      17100.0  00:04:35.58\n",
       "Forest 8    S      14000.0  00:05:00.12\n",
       "\n",
       "[73 rows x 3 columns]"
      ]
     },
     "execution_count": 25,
     "metadata": {},
     "output_type": "execute_result"
    }
   ],
   "source": [
    "sRanks = scoreboards.loc[scoreboards['Rank'] == 'S', ['Rank', 'Total Score', 'Clear Time']]\n",
    "sRanks"
   ]
  },
  {
   "cell_type": "code",
   "execution_count": 26,
   "id": "60177cf2",
   "metadata": {},
   "outputs": [
    {
     "data": {
      "text/plain": [
       "Index(['Forest 1', 'Forest 1', 'Forest 1', 'Forest 1', 'Forest 1', 'Forest 1',\n",
       "       'Forest 1', 'Forest 2', 'Forest 2', 'Forest 2', 'Forest 2', 'Forest 2',\n",
       "       'Forest 2', 'Forest 2', 'Forest 2', 'Forest 2', 'Forest 2', 'Forest 3',\n",
       "       'Forest 3', 'Forest 3', 'Forest 3', 'Forest 3', 'Forest 3', 'Forest 3',\n",
       "       'Forest 3', 'Forest 3', 'Forest 3', 'Forest 3', 'Forest 3', 'Forest 3',\n",
       "       'Forest 4', 'Forest 4', 'Forest 4', 'Forest 4', 'Forest 4', 'Forest 4',\n",
       "       'Forest 4', 'Forest 5', 'Forest 5', 'Forest 5', 'Forest 5', 'Forest 5',\n",
       "       'Forest 5', 'Forest 5', 'Forest 5', 'Forest 5', 'Forest 5', 'Forest 5',\n",
       "       'Forest 6', 'Forest 6', 'Forest 6', 'Forest 6', 'Forest 6', 'Forest 6',\n",
       "       'Forest 6', 'Forest 6', 'Forest 6', 'Forest 6', 'Forest 7', 'Forest 7',\n",
       "       'Forest 7', 'Forest 7', 'Forest 7', 'Forest 7', 'Forest 7', 'Forest 7',\n",
       "       'Forest 8', 'Forest 8', 'Forest 8', 'Forest 8', 'Forest 8', 'Forest 8',\n",
       "       'Forest 8'],\n",
       "      dtype='object')"
      ]
     },
     "execution_count": 26,
     "metadata": {},
     "output_type": "execute_result"
    }
   ],
   "source": [
    "sRanks.index\n"
   ]
  },
  {
   "cell_type": "code",
   "execution_count": 27,
   "id": "1965f03d",
   "metadata": {},
   "outputs": [
    {
     "data": {
      "text/plain": [
       "Forest 1   2021-12-02 00:01:29.360\n",
       "Forest 1   2021-12-02 00:02:10.120\n",
       "Forest 1   2021-12-02 00:02:19.240\n",
       "Forest 1   2021-12-02 00:02:24.920\n",
       "Forest 1   2021-12-02 00:02:36.280\n",
       "                     ...          \n",
       "Forest 8   2021-12-02 00:03:24.920\n",
       "Forest 8   2021-12-02 00:03:51.210\n",
       "Forest 8   2021-12-02 00:04:27.880\n",
       "Forest 8   2021-12-02 00:04:35.580\n",
       "Forest 8   2021-12-02 00:05:00.120\n",
       "Name: Clear Time, Length: 73, dtype: datetime64[ns]"
      ]
     },
     "execution_count": 27,
     "metadata": {},
     "output_type": "execute_result"
    }
   ],
   "source": [
    "#plt.histogram(sRanks.loc[sRanks.index == 'Forest1'])\n",
    "# forest1_Sranks\n",
    "\n",
    "# do this with multiple pd.Series instead of pd.DataFrame\n",
    "# timedelta to datetime\n",
    "sTimes = pd.to_datetime(sRanks['Clear Time'])\n",
    "sTimes"
   ]
  },
  {
   "cell_type": "code",
   "execution_count": 28,
   "id": "c166d6d5",
   "metadata": {},
   "outputs": [
    {
     "data": {
      "text/plain": [
       "Forest 1     4200.0\n",
       "Forest 1    11100.0\n",
       "Forest 1     9600.0\n",
       "Forest 1     6800.0\n",
       "Forest 1     6800.0\n",
       "             ...   \n",
       "Forest 8    14200.0\n",
       "Forest 8    26900.0\n",
       "Forest 8    21500.0\n",
       "Forest 8    17100.0\n",
       "Forest 8    14000.0\n",
       "Name: Total Score, Length: 73, dtype: float64"
      ]
     },
     "execution_count": 28,
     "metadata": {},
     "output_type": "execute_result"
    }
   ],
   "source": [
    "sScores = sRanks['Total Score']\n",
    "sScores"
   ]
  },
  {
   "cell_type": "code",
   "execution_count": 29,
   "id": "8ede54a0",
   "metadata": {},
   "outputs": [
    {
     "data": {
      "text/plain": [
       "<matplotlib.collections.PathCollection at 0x7fb641320730>"
      ]
     },
     "execution_count": 29,
     "metadata": {},
     "output_type": "execute_result"
    },
    {
     "data": {
      "image/png": "[encoded data removed]",
      "text/plain": [
       "<Figure size 432x288 with 1 Axes>"
      ]
     },
     "metadata": {},
     "output_type": "display_data"
    }
   ],
   "source": [
    "# plotting float64 vs timedelta64[ns] doesn't work \n",
    "# but float64 vs datetime64[ns] does\n",
    "plt.scatter(sTimes, sScores)"
   ]
  },
  {
   "cell_type": "code",
   "execution_count": 30,
   "id": "ccd5f058",
   "metadata": {},
   "outputs": [
    {
     "data": {
      "text/plain": [
       "pandas.core.series.Series"
      ]
     },
     "execution_count": 30,
     "metadata": {},
     "output_type": "execute_result"
    }
   ],
   "source": [
    "type(sScores)"
   ]
  },
  {
   "cell_type": "code",
   "execution_count": 31,
   "id": "c3bf3e90",
   "metadata": {},
   "outputs": [
    {
     "data": {
      "text/plain": [
       "pandas.core.series.Series"
      ]
     },
     "execution_count": 31,
     "metadata": {},
     "output_type": "execute_result"
    }
   ],
   "source": [
    "type(sTimes)"
   ]
  },
  {
   "cell_type": "code",
   "execution_count": 32,
   "id": "9de92a05",
   "metadata": {},
   "outputs": [
    {
     "data": {
      "text/html": [
       "<div>\n",
       "<style scoped>\n",
       "    .dataframe tbody tr th:only-of-type {\n",
       "        vertical-align: middle;\n",
       "    }\n",
       "\n",
       "    .dataframe tbody tr th {\n",
       "        vertical-align: top;\n",
       "    }\n",
       "\n",
       "    .dataframe thead th {\n",
       "        text-align: right;\n",
       "    }\n",
       "</style>\n",
       "<table border=\"1\" class=\"dataframe\">\n",
       "  <thead>\n",
       "    <tr style=\"text-align: right;\">\n",
       "      <th></th>\n",
       "      <th>score</th>\n",
       "      <th>time</th>\n",
       "    </tr>\n",
       "  </thead>\n",
       "  <tbody>\n",
       "    <tr>\n",
       "      <th>Forest 1</th>\n",
       "      <td>4200.0</td>\n",
       "      <td>2021-12-02 00:01:29.360</td>\n",
       "    </tr>\n",
       "    <tr>\n",
       "      <th>Forest 1</th>\n",
       "      <td>11100.0</td>\n",
       "      <td>2021-12-02 00:02:10.120</td>\n",
       "    </tr>\n",
       "    <tr>\n",
       "      <th>Forest 1</th>\n",
       "      <td>9600.0</td>\n",
       "      <td>2021-12-02 00:02:19.240</td>\n",
       "    </tr>\n",
       "    <tr>\n",
       "      <th>Forest 1</th>\n",
       "      <td>6800.0</td>\n",
       "      <td>2021-12-02 00:02:24.920</td>\n",
       "    </tr>\n",
       "    <tr>\n",
       "      <th>Forest 1</th>\n",
       "      <td>6800.0</td>\n",
       "      <td>2021-12-02 00:02:36.280</td>\n",
       "    </tr>\n",
       "    <tr>\n",
       "      <th>...</th>\n",
       "      <td>...</td>\n",
       "      <td>...</td>\n",
       "    </tr>\n",
       "    <tr>\n",
       "      <th>Forest 8</th>\n",
       "      <td>14200.0</td>\n",
       "      <td>2021-12-02 00:03:24.920</td>\n",
       "    </tr>\n",
       "    <tr>\n",
       "      <th>Forest 8</th>\n",
       "      <td>26900.0</td>\n",
       "      <td>2021-12-02 00:03:51.210</td>\n",
       "    </tr>\n",
       "    <tr>\n",
       "      <th>Forest 8</th>\n",
       "      <td>21500.0</td>\n",
       "      <td>2021-12-02 00:04:27.880</td>\n",
       "    </tr>\n",
       "    <tr>\n",
       "      <th>Forest 8</th>\n",
       "      <td>17100.0</td>\n",
       "      <td>2021-12-02 00:04:35.580</td>\n",
       "    </tr>\n",
       "    <tr>\n",
       "      <th>Forest 8</th>\n",
       "      <td>14000.0</td>\n",
       "      <td>2021-12-02 00:05:00.120</td>\n",
       "    </tr>\n",
       "  </tbody>\n",
       "</table>\n",
       "<p>73 rows × 2 columns</p>\n",
       "</div>"
      ],
      "text/plain": [
       "            score                    time\n",
       "Forest 1   4200.0 2021-12-02 00:01:29.360\n",
       "Forest 1  11100.0 2021-12-02 00:02:10.120\n",
       "Forest 1   9600.0 2021-12-02 00:02:19.240\n",
       "Forest 1   6800.0 2021-12-02 00:02:24.920\n",
       "Forest 1   6800.0 2021-12-02 00:02:36.280\n",
       "...           ...                     ...\n",
       "Forest 8  14200.0 2021-12-02 00:03:24.920\n",
       "Forest 8  26900.0 2021-12-02 00:03:51.210\n",
       "Forest 8  21500.0 2021-12-02 00:04:27.880\n",
       "Forest 8  17100.0 2021-12-02 00:04:35.580\n",
       "Forest 8  14000.0 2021-12-02 00:05:00.120\n",
       "\n",
       "[73 rows x 2 columns]"
      ]
     },
     "execution_count": 32,
     "metadata": {},
     "output_type": "execute_result"
    }
   ],
   "source": [
    "sData = pd.DataFrame({'score':sScores, 'time':sTimes})\n",
    "sData"
   ]
  },
  {
   "cell_type": "code",
   "execution_count": 33,
   "id": "f739bffb",
   "metadata": {},
   "outputs": [
    {
     "data": {
      "text/html": [
       "<div>\n",
       "<style scoped>\n",
       "    .dataframe tbody tr th:only-of-type {\n",
       "        vertical-align: middle;\n",
       "    }\n",
       "\n",
       "    .dataframe tbody tr th {\n",
       "        vertical-align: top;\n",
       "    }\n",
       "\n",
       "    .dataframe thead th {\n",
       "        text-align: right;\n",
       "    }\n",
       "</style>\n",
       "<table border=\"1\" class=\"dataframe\">\n",
       "  <thead>\n",
       "    <tr style=\"text-align: right;\">\n",
       "      <th></th>\n",
       "      <th>score</th>\n",
       "      <th>time</th>\n",
       "    </tr>\n",
       "  </thead>\n",
       "  <tbody>\n",
       "    <tr>\n",
       "      <th>Forest 1</th>\n",
       "      <td>4200.0</td>\n",
       "      <td>2021-12-02 00:01:29.360</td>\n",
       "    </tr>\n",
       "    <tr>\n",
       "      <th>Forest 1</th>\n",
       "      <td>11100.0</td>\n",
       "      <td>2021-12-02 00:02:10.120</td>\n",
       "    </tr>\n",
       "    <tr>\n",
       "      <th>Forest 1</th>\n",
       "      <td>9600.0</td>\n",
       "      <td>2021-12-02 00:02:19.240</td>\n",
       "    </tr>\n",
       "    <tr>\n",
       "      <th>Forest 1</th>\n",
       "      <td>6800.0</td>\n",
       "      <td>2021-12-02 00:02:24.920</td>\n",
       "    </tr>\n",
       "    <tr>\n",
       "      <th>Forest 1</th>\n",
       "      <td>6800.0</td>\n",
       "      <td>2021-12-02 00:02:36.280</td>\n",
       "    </tr>\n",
       "    <tr>\n",
       "      <th>Forest 1</th>\n",
       "      <td>10200.0</td>\n",
       "      <td>2021-12-02 00:02:37.530</td>\n",
       "    </tr>\n",
       "    <tr>\n",
       "      <th>Forest 1</th>\n",
       "      <td>8100.0</td>\n",
       "      <td>2021-12-02 00:03:28.080</td>\n",
       "    </tr>\n",
       "  </tbody>\n",
       "</table>\n",
       "</div>"
      ],
      "text/plain": [
       "            score                    time\n",
       "Forest 1   4200.0 2021-12-02 00:01:29.360\n",
       "Forest 1  11100.0 2021-12-02 00:02:10.120\n",
       "Forest 1   9600.0 2021-12-02 00:02:19.240\n",
       "Forest 1   6800.0 2021-12-02 00:02:24.920\n",
       "Forest 1   6800.0 2021-12-02 00:02:36.280\n",
       "Forest 1  10200.0 2021-12-02 00:02:37.530\n",
       "Forest 1   8100.0 2021-12-02 00:03:28.080"
      ]
     },
     "execution_count": 33,
     "metadata": {},
     "output_type": "execute_result"
    }
   ],
   "source": [
    "sData.loc['Forest 1']"
   ]
  },
  {
   "cell_type": "code",
   "execution_count": 40,
   "id": "318eeba8",
   "metadata": {},
   "outputs": [
    {
     "data": {
      "image/png": "[encoded data removed]",
      "text/plain": [
       "<Figure size 432x288 with 1 Axes>"
      ]
     },
     "metadata": {},
     "output_type": "display_data"
    }
   ],
   "source": [
    "# forced a scuffed version together\n",
    "plt.scatter(sData.loc['Forest 1']['time'], sData.loc['Forest 1']['score'])\n",
    "plt.xlabel('Clear Time')\n",
    "plt.ylabel('Total Score')\n",
    "plt.title('Forest 1 S Ranks');\n"
   ]
  },
  {
   "cell_type": "code",
   "execution_count": 41,
   "id": "1b5cc8a3",
   "metadata": {},
   "outputs": [
    {
     "data": {
      "image/png": "[encoded data removed]",
      "text/plain": [
       "<Figure size 432x288 with 1 Axes>"
      ]
     },
     "metadata": {},
     "output_type": "display_data"
    }
   ],
   "source": [
    "plt.scatter(sData.loc['Forest 2']['time'], sData.loc['Forest 2']['score'])\n",
    "plt.xlabel('Clear Time')\n",
    "plt.ylabel('Total Score')\n",
    "plt.title('Forest 2 S Ranks');"
   ]
  },
  {
   "cell_type": "code",
   "execution_count": 42,
   "id": "1f53e673",
   "metadata": {},
   "outputs": [
    {
     "data": {
      "image/png": "[encoded data removed]",
      "text/plain": [
       "<Figure size 432x288 with 1 Axes>"
      ]
     },
     "metadata": {},
     "output_type": "display_data"
    }
   ],
   "source": [
    "plt.scatter(sData.loc['Forest 3']['time'], sData.loc['Forest 3']['score'])\n",
    "plt.xlabel('Clear Time')\n",
    "plt.ylabel('Total Score')\n",
    "plt.title('Forest 3 S Ranks');"
   ]
  },
  {
   "cell_type": "code",
   "execution_count": 43,
   "id": "ccd9b03e",
   "metadata": {},
   "outputs": [
    {
     "data": {
      "image/png": "[encoded data removed]",
      "text/plain": [
       "<Figure size 432x288 with 1 Axes>"
      ]
     },
     "metadata": {},
     "output_type": "display_data"
    }
   ],
   "source": [
    "plt.scatter(sData.loc['Forest 4']['time'], sData.loc['Forest 4']['score'])\n",
    "plt.xlabel('Clear Time')\n",
    "plt.ylabel('Total Score')\n",
    "plt.title('Forest 4 S Ranks');"
   ]
  },
  {
   "cell_type": "code",
   "execution_count": 44,
   "id": "ae2c3a51",
   "metadata": {},
   "outputs": [
    {
     "data": {
      "image/png": "[encoded data removed]",
      "text/plain": [
       "<Figure size 432x288 with 1 Axes>"
      ]
     },
     "metadata": {},
     "output_type": "display_data"
    }
   ],
   "source": [
    "plt.scatter(sData.loc['Forest 5']['time'], sData.loc['Forest 5']['score'])\n",
    "plt.xlabel('Clear Time')\n",
    "plt.ylabel('Total Score')\n",
    "plt.title('Forest 5 S Ranks');"
   ]
  },
  {
   "cell_type": "code",
   "execution_count": 45,
   "id": "91869a45",
   "metadata": {},
   "outputs": [
    {
     "data": {
      "image/png": "[encoded data removed]",
      "text/plain": [
       "<Figure size 432x288 with 1 Axes>"
      ]
     },
     "metadata": {},
     "output_type": "display_data"
    }
   ],
   "source": [
    "plt.scatter(sData.loc['Forest 6']['time'], sData.loc['Forest 6']['score'])\n",
    "plt.xlabel('Clear Time')\n",
    "plt.ylabel('Total Score')\n",
    "plt.title('Forest 6 S Ranks');"
   ]
  },
  {
   "cell_type": "code",
   "execution_count": 46,
   "id": "32d938b1",
   "metadata": {},
   "outputs": [
    {
     "data": {
      "image/png": "[encoded data removed]",
      "text/plain": [
       "<Figure size 432x288 with 1 Axes>"
      ]
     },
     "metadata": {},
     "output_type": "display_data"
    }
   ],
   "source": [
    "plt.scatter(sData.loc['Forest 7']['time'], sData.loc['Forest 7']['score'])\n",
    "plt.xlabel('Clear Time')\n",
    "plt.ylabel('Total Score')\n",
    "plt.title('Forest 7 S Ranks');"
   ]
  },
  {
   "cell_type": "code",
   "execution_count": 45,
   "id": "95ae1c37",
   "metadata": {},
   "outputs": [
    {
     "ename": "KeyError",
     "evalue": "'Forest 8'",
     "output_type": "error",
     "traceback": [
      "\u001b[0;31m---------------------------------------------------------------------------\u001b[0m",
      "\u001b[0;31mKeyError\u001b[0m                                  Traceback (most recent call last)",
      "\u001b[0;32m~/miniconda3/envs/jakevdp-book/lib/python3.9/site-packages/pandas/core/indexes/base.py\u001b[0m in \u001b[0;36mget_loc\u001b[0;34m(self, key, method, tolerance)\u001b[0m\n\u001b[1;32m   3360\u001b[0m             \u001b[0;32mtry\u001b[0m\u001b[0;34m:\u001b[0m\u001b[0;34m\u001b[0m\u001b[0;34m\u001b[0m\u001b[0m\n\u001b[0;32m-> 3361\u001b[0;31m                 \u001b[0;32mreturn\u001b[0m \u001b[0mself\u001b[0m\u001b[0;34m.\u001b[0m\u001b[0m_engine\u001b[0m\u001b[0;34m.\u001b[0m\u001b[0mget_loc\u001b[0m\u001b[0;34m(\u001b[0m\u001b[0mcasted_key\u001b[0m\u001b[0;34m)\u001b[0m\u001b[0;34m\u001b[0m\u001b[0;34m\u001b[0m\u001b[0m\n\u001b[0m\u001b[1;32m   3362\u001b[0m             \u001b[0;32mexcept\u001b[0m \u001b[0mKeyError\u001b[0m \u001b[0;32mas\u001b[0m \u001b[0merr\u001b[0m\u001b[0;34m:\u001b[0m\u001b[0;34m\u001b[0m\u001b[0;34m\u001b[0m\u001b[0m\n",
      "\u001b[0;32m~/miniconda3/envs/jakevdp-book/lib/python3.9/site-packages/pandas/_libs/index.pyx\u001b[0m in \u001b[0;36mpandas._libs.index.IndexEngine.get_loc\u001b[0;34m()\u001b[0m\n",
      "\u001b[0;32mpandas/_libs/index_class_helper.pxi\u001b[0m in \u001b[0;36mpandas._libs.index.Int64Engine._check_type\u001b[0;34m()\u001b[0m\n",
      "\u001b[0;32mpandas/_libs/index_class_helper.pxi\u001b[0m in \u001b[0;36mpandas._libs.index.Int64Engine._check_type\u001b[0;34m()\u001b[0m\n",
      "\u001b[0;31mKeyError\u001b[0m: 'Forest 8'",
      "\nThe above exception was the direct cause of the following exception:\n",
      "\u001b[0;31mKeyError\u001b[0m                                  Traceback (most recent call last)",
      "\u001b[0;32m/tmp/ipykernel_14427/2652364229.py\u001b[0m in \u001b[0;36m<module>\u001b[0;34m\u001b[0m\n\u001b[0;32m----> 1\u001b[0;31m \u001b[0mplt\u001b[0m\u001b[0;34m.\u001b[0m\u001b[0mscatter\u001b[0m\u001b[0;34m(\u001b[0m\u001b[0msData\u001b[0m\u001b[0;34m.\u001b[0m\u001b[0mloc\u001b[0m\u001b[0;34m[\u001b[0m\u001b[0;34m'Forest 8'\u001b[0m\u001b[0;34m]\u001b[0m\u001b[0;34m[\u001b[0m\u001b[0;34m'time'\u001b[0m\u001b[0;34m]\u001b[0m\u001b[0;34m,\u001b[0m \u001b[0msData\u001b[0m\u001b[0;34m.\u001b[0m\u001b[0mloc\u001b[0m\u001b[0;34m[\u001b[0m\u001b[0;34m'Forest 8'\u001b[0m\u001b[0;34m]\u001b[0m\u001b[0;34m[\u001b[0m\u001b[0;34m'score'\u001b[0m\u001b[0;34m]\u001b[0m\u001b[0;34m)\u001b[0m\u001b[0;34m\u001b[0m\u001b[0;34m\u001b[0m\u001b[0m\n\u001b[0m\u001b[1;32m      2\u001b[0m \u001b[0mplt\u001b[0m\u001b[0;34m.\u001b[0m\u001b[0mxlabel\u001b[0m\u001b[0;34m(\u001b[0m\u001b[0;34m'Clear Time'\u001b[0m\u001b[0;34m)\u001b[0m\u001b[0;34m\u001b[0m\u001b[0;34m\u001b[0m\u001b[0m\n\u001b[1;32m      3\u001b[0m \u001b[0mplt\u001b[0m\u001b[0;34m.\u001b[0m\u001b[0mylabel\u001b[0m\u001b[0;34m(\u001b[0m\u001b[0;34m'Total Score'\u001b[0m\u001b[0;34m)\u001b[0m\u001b[0;34m\u001b[0m\u001b[0;34m\u001b[0m\u001b[0m\n\u001b[1;32m      4\u001b[0m \u001b[0mplt\u001b[0m\u001b[0;34m.\u001b[0m\u001b[0mtitle\u001b[0m\u001b[0;34m(\u001b[0m\u001b[0;34m'Forest 8 S Ranks'\u001b[0m\u001b[0;34m)\u001b[0m\u001b[0;34m;\u001b[0m\u001b[0;34m\u001b[0m\u001b[0;34m\u001b[0m\u001b[0m\n",
      "\u001b[0;32m~/miniconda3/envs/jakevdp-book/lib/python3.9/site-packages/pandas/core/indexing.py\u001b[0m in \u001b[0;36m__getitem__\u001b[0;34m(self, key)\u001b[0m\n\u001b[1;32m    929\u001b[0m \u001b[0;34m\u001b[0m\u001b[0m\n\u001b[1;32m    930\u001b[0m             \u001b[0mmaybe_callable\u001b[0m \u001b[0;34m=\u001b[0m \u001b[0mcom\u001b[0m\u001b[0;34m.\u001b[0m\u001b[0mapply_if_callable\u001b[0m\u001b[0;34m(\u001b[0m\u001b[0mkey\u001b[0m\u001b[0;34m,\u001b[0m \u001b[0mself\u001b[0m\u001b[0;34m.\u001b[0m\u001b[0mobj\u001b[0m\u001b[0;34m)\u001b[0m\u001b[0;34m\u001b[0m\u001b[0;34m\u001b[0m\u001b[0m\n\u001b[0;32m--> 931\u001b[0;31m             \u001b[0;32mreturn\u001b[0m \u001b[0mself\u001b[0m\u001b[0;34m.\u001b[0m\u001b[0m_getitem_axis\u001b[0m\u001b[0;34m(\u001b[0m\u001b[0mmaybe_callable\u001b[0m\u001b[0;34m,\u001b[0m \u001b[0maxis\u001b[0m\u001b[0;34m=\u001b[0m\u001b[0maxis\u001b[0m\u001b[0;34m)\u001b[0m\u001b[0;34m\u001b[0m\u001b[0;34m\u001b[0m\u001b[0m\n\u001b[0m\u001b[1;32m    932\u001b[0m \u001b[0;34m\u001b[0m\u001b[0m\n\u001b[1;32m    933\u001b[0m     \u001b[0;32mdef\u001b[0m \u001b[0m_is_scalar_access\u001b[0m\u001b[0;34m(\u001b[0m\u001b[0mself\u001b[0m\u001b[0;34m,\u001b[0m \u001b[0mkey\u001b[0m\u001b[0;34m:\u001b[0m \u001b[0mtuple\u001b[0m\u001b[0;34m)\u001b[0m\u001b[0;34m:\u001b[0m\u001b[0;34m\u001b[0m\u001b[0;34m\u001b[0m\u001b[0m\n",
      "\u001b[0;32m~/miniconda3/envs/jakevdp-book/lib/python3.9/site-packages/pandas/core/indexing.py\u001b[0m in \u001b[0;36m_getitem_axis\u001b[0;34m(self, key, axis)\u001b[0m\n\u001b[1;32m   1162\u001b[0m         \u001b[0;31m# fall thru to straight lookup\u001b[0m\u001b[0;34m\u001b[0m\u001b[0;34m\u001b[0m\u001b[0;34m\u001b[0m\u001b[0m\n\u001b[1;32m   1163\u001b[0m         \u001b[0mself\u001b[0m\u001b[0;34m.\u001b[0m\u001b[0m_validate_key\u001b[0m\u001b[0;34m(\u001b[0m\u001b[0mkey\u001b[0m\u001b[0;34m,\u001b[0m \u001b[0maxis\u001b[0m\u001b[0;34m)\u001b[0m\u001b[0;34m\u001b[0m\u001b[0;34m\u001b[0m\u001b[0m\n\u001b[0;32m-> 1164\u001b[0;31m         \u001b[0;32mreturn\u001b[0m \u001b[0mself\u001b[0m\u001b[0;34m.\u001b[0m\u001b[0m_get_label\u001b[0m\u001b[0;34m(\u001b[0m\u001b[0mkey\u001b[0m\u001b[0;34m,\u001b[0m \u001b[0maxis\u001b[0m\u001b[0;34m=\u001b[0m\u001b[0maxis\u001b[0m\u001b[0;34m)\u001b[0m\u001b[0;34m\u001b[0m\u001b[0;34m\u001b[0m\u001b[0m\n\u001b[0m\u001b[1;32m   1165\u001b[0m \u001b[0;34m\u001b[0m\u001b[0m\n\u001b[1;32m   1166\u001b[0m     \u001b[0;32mdef\u001b[0m \u001b[0m_get_slice_axis\u001b[0m\u001b[0;34m(\u001b[0m\u001b[0mself\u001b[0m\u001b[0;34m,\u001b[0m \u001b[0mslice_obj\u001b[0m\u001b[0;34m:\u001b[0m \u001b[0mslice\u001b[0m\u001b[0;34m,\u001b[0m \u001b[0maxis\u001b[0m\u001b[0;34m:\u001b[0m \u001b[0mint\u001b[0m\u001b[0;34m)\u001b[0m\u001b[0;34m:\u001b[0m\u001b[0;34m\u001b[0m\u001b[0;34m\u001b[0m\u001b[0m\n",
      "\u001b[0;32m~/miniconda3/envs/jakevdp-book/lib/python3.9/site-packages/pandas/core/indexing.py\u001b[0m in \u001b[0;36m_get_label\u001b[0;34m(self, label, axis)\u001b[0m\n\u001b[1;32m   1111\u001b[0m     \u001b[0;32mdef\u001b[0m \u001b[0m_get_label\u001b[0m\u001b[0;34m(\u001b[0m\u001b[0mself\u001b[0m\u001b[0;34m,\u001b[0m \u001b[0mlabel\u001b[0m\u001b[0;34m,\u001b[0m \u001b[0maxis\u001b[0m\u001b[0;34m:\u001b[0m \u001b[0mint\u001b[0m\u001b[0;34m)\u001b[0m\u001b[0;34m:\u001b[0m\u001b[0;34m\u001b[0m\u001b[0;34m\u001b[0m\u001b[0m\n\u001b[1;32m   1112\u001b[0m         \u001b[0;31m# GH#5667 this will fail if the label is not present in the axis.\u001b[0m\u001b[0;34m\u001b[0m\u001b[0;34m\u001b[0m\u001b[0;34m\u001b[0m\u001b[0m\n\u001b[0;32m-> 1113\u001b[0;31m         \u001b[0;32mreturn\u001b[0m \u001b[0mself\u001b[0m\u001b[0;34m.\u001b[0m\u001b[0mobj\u001b[0m\u001b[0;34m.\u001b[0m\u001b[0mxs\u001b[0m\u001b[0;34m(\u001b[0m\u001b[0mlabel\u001b[0m\u001b[0;34m,\u001b[0m \u001b[0maxis\u001b[0m\u001b[0;34m=\u001b[0m\u001b[0maxis\u001b[0m\u001b[0;34m)\u001b[0m\u001b[0;34m\u001b[0m\u001b[0;34m\u001b[0m\u001b[0m\n\u001b[0m\u001b[1;32m   1114\u001b[0m \u001b[0;34m\u001b[0m\u001b[0m\n\u001b[1;32m   1115\u001b[0m     \u001b[0;32mdef\u001b[0m \u001b[0m_handle_lowerdim_multi_index_axis0\u001b[0m\u001b[0;34m(\u001b[0m\u001b[0mself\u001b[0m\u001b[0;34m,\u001b[0m \u001b[0mtup\u001b[0m\u001b[0;34m:\u001b[0m \u001b[0mtuple\u001b[0m\u001b[0;34m)\u001b[0m\u001b[0;34m:\u001b[0m\u001b[0;34m\u001b[0m\u001b[0;34m\u001b[0m\u001b[0m\n",
      "\u001b[0;32m~/miniconda3/envs/jakevdp-book/lib/python3.9/site-packages/pandas/core/generic.py\u001b[0m in \u001b[0;36mxs\u001b[0;34m(self, key, axis, level, drop_level)\u001b[0m\n\u001b[1;32m   3774\u001b[0m                 \u001b[0;32mraise\u001b[0m \u001b[0mTypeError\u001b[0m\u001b[0;34m(\u001b[0m\u001b[0;34mf\"Expected label or tuple of labels, got {key}\"\u001b[0m\u001b[0;34m)\u001b[0m \u001b[0;32mfrom\u001b[0m \u001b[0me\u001b[0m\u001b[0;34m\u001b[0m\u001b[0;34m\u001b[0m\u001b[0m\n\u001b[1;32m   3775\u001b[0m         \u001b[0;32melse\u001b[0m\u001b[0;34m:\u001b[0m\u001b[0;34m\u001b[0m\u001b[0;34m\u001b[0m\u001b[0m\n\u001b[0;32m-> 3776\u001b[0;31m             \u001b[0mloc\u001b[0m \u001b[0;34m=\u001b[0m \u001b[0mindex\u001b[0m\u001b[0;34m.\u001b[0m\u001b[0mget_loc\u001b[0m\u001b[0;34m(\u001b[0m\u001b[0mkey\u001b[0m\u001b[0;34m)\u001b[0m\u001b[0;34m\u001b[0m\u001b[0;34m\u001b[0m\u001b[0m\n\u001b[0m\u001b[1;32m   3777\u001b[0m \u001b[0;34m\u001b[0m\u001b[0m\n\u001b[1;32m   3778\u001b[0m             \u001b[0;32mif\u001b[0m \u001b[0misinstance\u001b[0m\u001b[0;34m(\u001b[0m\u001b[0mloc\u001b[0m\u001b[0;34m,\u001b[0m \u001b[0mnp\u001b[0m\u001b[0;34m.\u001b[0m\u001b[0mndarray\u001b[0m\u001b[0;34m)\u001b[0m\u001b[0;34m:\u001b[0m\u001b[0;34m\u001b[0m\u001b[0;34m\u001b[0m\u001b[0m\n",
      "\u001b[0;32m~/miniconda3/envs/jakevdp-book/lib/python3.9/site-packages/pandas/core/indexes/base.py\u001b[0m in \u001b[0;36mget_loc\u001b[0;34m(self, key, method, tolerance)\u001b[0m\n\u001b[1;32m   3361\u001b[0m                 \u001b[0;32mreturn\u001b[0m \u001b[0mself\u001b[0m\u001b[0;34m.\u001b[0m\u001b[0m_engine\u001b[0m\u001b[0;34m.\u001b[0m\u001b[0mget_loc\u001b[0m\u001b[0;34m(\u001b[0m\u001b[0mcasted_key\u001b[0m\u001b[0;34m)\u001b[0m\u001b[0;34m\u001b[0m\u001b[0;34m\u001b[0m\u001b[0m\n\u001b[1;32m   3362\u001b[0m             \u001b[0;32mexcept\u001b[0m \u001b[0mKeyError\u001b[0m \u001b[0;32mas\u001b[0m \u001b[0merr\u001b[0m\u001b[0;34m:\u001b[0m\u001b[0;34m\u001b[0m\u001b[0;34m\u001b[0m\u001b[0m\n\u001b[0;32m-> 3363\u001b[0;31m                 \u001b[0;32mraise\u001b[0m \u001b[0mKeyError\u001b[0m\u001b[0;34m(\u001b[0m\u001b[0mkey\u001b[0m\u001b[0;34m)\u001b[0m \u001b[0;32mfrom\u001b[0m \u001b[0merr\u001b[0m\u001b[0;34m\u001b[0m\u001b[0;34m\u001b[0m\u001b[0m\n\u001b[0m\u001b[1;32m   3364\u001b[0m \u001b[0;34m\u001b[0m\u001b[0m\n\u001b[1;32m   3365\u001b[0m         \u001b[0;32mif\u001b[0m \u001b[0mis_scalar\u001b[0m\u001b[0;34m(\u001b[0m\u001b[0mkey\u001b[0m\u001b[0;34m)\u001b[0m \u001b[0;32mand\u001b[0m \u001b[0misna\u001b[0m\u001b[0;34m(\u001b[0m\u001b[0mkey\u001b[0m\u001b[0;34m)\u001b[0m \u001b[0;32mand\u001b[0m \u001b[0;32mnot\u001b[0m \u001b[0mself\u001b[0m\u001b[0;34m.\u001b[0m\u001b[0mhasnans\u001b[0m\u001b[0;34m:\u001b[0m\u001b[0;34m\u001b[0m\u001b[0;34m\u001b[0m\u001b[0m\n",
      "\u001b[0;31mKeyError\u001b[0m: 'Forest 8'"
     ]
    }
   ],
   "source": [
    "plt.scatter(sData.loc['Forest 8']['time'], sData.loc['Forest 8']['score'])\n",
    "plt.xlabel('Clear Time')\n",
    "plt.ylabel('Total Score')\n",
    "plt.title('Forest 8 S Ranks');"
   ]
  },
  {
   "cell_type": "code",
   "execution_count": null,
   "id": "f3a7a9ae",
   "metadata": {},
   "outputs": [],
   "source": []
  }
 ],
 "metadata": {
  "kernelspec": {
   "display_name": "Python 3 (ipykernel)",
   "language": "python",
   "name": "python3"
  },
  "language_info": {
   "codemirror_mode": {
    "name": "ipython",
    "version": 3
   },
   "file_extension": ".py",
   "mimetype": "text/x-python",
   "name": "python",
   "nbconvert_exporter": "python",
   "pygments_lexer": "ipython3",
   "version": "3.9.5"
  }
 },
 "nbformat": 4,
 "nbformat_minor": 5
}
